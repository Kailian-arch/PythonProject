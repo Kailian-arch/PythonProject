{
 "metadata": {
  "language_info": {
   "codemirror_mode": {
    "name": "ipython",
    "version": 3
   },
   "file_extension": ".py",
   "mimetype": "text/x-python",
   "name": "python",
   "nbconvert_exporter": "python",
   "pygments_lexer": "ipython3",
   "version": "3.9.0-final"
  },
  "orig_nbformat": 2,
  "kernelspec": {
   "name": "python3",
   "display_name": "Python 3.9.0 64-bit",
   "metadata": {
    "interpreter": {
     "hash": "7812ea015bdcee6f23a998adcdd2ef97c151c0c241b7b7070987d9313e41299d"
    }
   }
  }
 },
 "nbformat": 4,
 "nbformat_minor": 2,
 "cells": [
  {
   "source": [
    "# iterator - yield\n",
    "\n",
    "## what is it used for: dynamic programming.\n",
    "- iterator is stopable loop. It's a way to pass function parameters between the round of loops.\n",
    "- iterator can be used to create various iterable objects. `range()` or `xrange()` before python 3 is the encryption of this function. And with which you can make iterator more than just a list of numbers.\n",
    "\n",
    "## usage\n",
    "**Inside the function**\n",
    "1. stop condition. while or for to stop the loop;\n",
    "2. change the iterator variables.\n",
    "3. yield your parameter back.\n",
    "\n",
    "**outside the function**\n",
    "1. you can use the function without `next()` fucntion as a list, or some iterable object.\n",
    "2. you can use `next()` function to resume another round of the loop\n",
    "\n",
    "## some functions extension\n",
    "send():\n",
    "- gives a return value for the `yield` key word inside the functions.\n",
    "- and start a new round of iterartion like `next()`\n",
    "\n",
    "see more at *https://blog.csdn.net/mieleizhi0522/article/details/82142856*\n"
   ],
   "cell_type": "markdown",
   "metadata": {}
  },
  {
   "cell_type": "code",
   "execution_count": null,
   "metadata": {},
   "outputs": [],
   "source": [
    "\n",
    "# def ExampleFor():\n",
    "#     print(\"Example for ordinary loops:\")\n",
    "#     for i in range(100):\n",
    "#         print(i)\n",
    "        \n",
    "def ExampleYield():\n",
    "    def foo():\n",
    "        iteratorNumber = 0\n",
    "        while iteratorNumber<100:\n",
    "            yield iteratorNumber\n",
    "            iteratorNumber += 1\n",
    "    # yield itself is a iterator, and make the function into a generator.\n",
    "    g = foo()\n",
    "    print(next(g))\n",
    "    print(next(g))\n",
    "\n",
    "ExampleYield()\n"
   ]
  },
  {
   "cell_type": "code",
   "execution_count": 1,
   "metadata": {},
   "outputs": [
    {
     "output_type": "stream",
     "name": "stdout",
     "text": [
      "0\n1\n2\n3\n4\n5\n6\n7\n8\n9\n10\n11\n12\n13\n14\n15\n16\n17\n18\n19\n20\n21\n22\n23\n24\n25\n26\n27\n28\n29\n30\n31\n32\n33\n34\n35\n36\n37\n38\n39\n40\n41\n42\n43\n44\n45\n46\n47\n48\n49\n50\n51\n52\n53\n54\n55\n56\n57\n58\n59\n60\n61\n62\n63\n64\n65\n66\n67\n68\n69\n70\n71\n72\n73\n74\n75\n76\n77\n78\n79\n80\n81\n82\n83\n84\n85\n86\n87\n88\n89\n90\n91\n92\n93\n94\n95\n96\n97\n98\n99\n"
     ]
    }
   ],
   "source": [
    "# def Example iterator object\n",
    "\n",
    "def ExampleLoop():\n",
    "    def foo():    \n",
    "        iteratorNumber = 0\n",
    "        while iteratorNumber<100:\n",
    "            yield iteratorNumber\n",
    "            iteratorNumber += 1 \n",
    "    for i in foo():\n",
    "        print(i)\n",
    "\n",
    "ExampleLoop()\n"
   ]
  },
  {
   "source": [
    "# functions scope in class\n",
    "\n",
    "## class functions \n",
    "- defined in the class. \n",
    "- used bu all class instances. \n",
    "- usage: **self.functionName()** in the class definition or **instanceName.functionName()** out of the class definition."
   ],
   "cell_type": "markdown",
   "metadata": {}
  },
  {
   "cell_type": "code",
   "execution_count": null,
   "metadata": {},
   "outputs": [],
   "source": [
    "# herite from a abstract class\n",
    "\n",
    "## creation of a abstract class\n",
    "import "
   ]
  }
 ]
}